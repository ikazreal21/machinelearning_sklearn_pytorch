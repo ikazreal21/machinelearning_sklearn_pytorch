{
 "metadata": {
  "language_info": {
   "codemirror_mode": {
    "name": "ipython",
    "version": 3
   },
   "file_extension": ".py",
   "mimetype": "text/x-python",
   "name": "python",
   "nbconvert_exporter": "python",
   "pygments_lexer": "ipython3",
   "version": "3.8.5-final"
  },
  "orig_nbformat": 2,
  "kernelspec": {
   "name": "python3",
   "display_name": "Python 3",
   "language": "python"
  }
 },
 "nbformat": 4,
 "nbformat_minor": 2,
 "cells": [
  {
   "cell_type": "code",
   "execution_count": 158,
   "metadata": {},
   "outputs": [
    {
     "output_type": "execute_result",
     "data": {
      "text/plain": [
       "array([[0., 0., 0., 0., 0.],\n",
       "       [0., 0., 0., 0., 0.]])"
      ]
     },
     "metadata": {},
     "execution_count": 158
    }
   ],
   "source": [
    "# Vertically stacking vertors\n",
    "l1 = np.array([1,2,3,4,5])\n",
    "l2 = np.array([6,7,8,9,10])\n",
    "np.vstack([l2,l1])\n",
    "\n",
    "# horizontal stack \n",
    "l1 = np.array([[1,2,3,4,5],[1,2,3,4,5]])\n",
    "l2 = np.array([[6,7,8,9,10],[6,7,8,9,10]])\n",
    "np.hstack([l1,l2]) "
   ]
  },
  {
   "cell_type": "code",
   "execution_count": 2,
   "metadata": {},
   "outputs": [],
   "source": [
    "import numpy as np"
   ]
  },
  {
   "cell_type": "code",
   "execution_count": 24,
   "metadata": {},
   "outputs": [
    {
     "output_type": "stream",
     "name": "stdout",
     "text": [
      "(2, 3)\n"
     ]
    }
   ],
   "source": [
    "# create a array and know it shape\n",
    "print(np.array([[1,2,3],[4,5,6]]).shape)"
   ]
  },
  {
   "cell_type": "code",
   "execution_count": 26,
   "metadata": {},
   "outputs": [
    {
     "output_type": "execute_result",
     "data": {
      "text/plain": [
       "2"
      ]
     },
     "metadata": {},
     "execution_count": 26
    }
   ],
   "source": [
    "# get the dimension of an numpy array\n",
    "a = np.array([[1,2,3,4],[5,6,7,8]], dtype=\"int32\")\n",
    "a.ndim"
   ]
  },
  {
   "cell_type": "code",
   "execution_count": 38,
   "metadata": {},
   "outputs": [
    {
     "output_type": "execute_result",
     "data": {
      "text/plain": [
       "32"
      ]
     },
     "metadata": {},
     "execution_count": 38
    }
   ],
   "source": [
    "# Get the type and size of the array\n",
    "a.dtype\n",
    "a.itemsize # .itemsize is the bytes and the .size is the size of the array\n",
    "a.nbytes # Float is bigger than int"
   ]
  },
  {
   "cell_type": "code",
   "execution_count": 41,
   "metadata": {},
   "outputs": [
    {
     "output_type": "stream",
     "name": "stdout",
     "text": [
      "[[ 1  2  3  4  5  6  7  8  9 10]\n [11 12 13 14 15 16 17 18 19 20]]\n"
     ]
    }
   ],
   "source": [
    "# change a value in the numpy array\n",
    "b = np.array([[1,2,3,4,5,6,7,8,9,10],[11,12,13,14,15,16,17,18,19,20]])\n",
    "print(b)"
   ]
  },
  {
   "cell_type": "code",
   "execution_count": 81,
   "metadata": {},
   "outputs": [
    {
     "output_type": "execute_result",
     "data": {
      "text/plain": [
       "(2, 10)"
      ]
     },
     "metadata": {},
     "execution_count": 81
    }
   ],
   "source": [
    "# Get a specific elements [row, col], [startindex:endIndex:step]\n",
    "b[:, 1]\n",
    "b[0, :-1]\n",
    "b[0, 2:-1:3]\n",
    "b[1, 1:-1:3] = 20, 21, 22"
   ]
  },
  {
   "cell_type": "code",
   "execution_count": 94,
   "metadata": {},
   "outputs": [
    {
     "output_type": "execute_result",
     "data": {
      "text/plain": [
       "array([[[1, 2],\n",
       "        [3, 4]],\n",
       "\n",
       "       [[5, 6],\n",
       "        [7, 8]]])"
      ]
     },
     "metadata": {},
     "execution_count": 94
    }
   ],
   "source": [
    "# 3d arr example \n",
    "c = np.array([[[1,2],[3,4]],[[5,6],[7,8]]])\n",
    "c.ndim\n",
    "c"
   ]
  },
  {
   "cell_type": "code",
   "execution_count": 222,
   "metadata": {},
   "outputs": [
    {
     "output_type": "execute_result",
     "data": {
      "text/plain": [
       "array([[[1, 2],\n",
       "        [3, 4]],\n",
       "\n",
       "       [[5, 6],\n",
       "        [7, 8]]])"
      ]
     },
     "metadata": {},
     "execution_count": 222
    }
   ],
   "source": [
    "#Display a element(Work outside In) and replace elements\n",
    "c[:,:,1] = [[1,2],[3,4]]\n",
    "c[:,:,1] = [[2,4],[6,8]]\n",
    "c"
   ]
  },
  {
   "cell_type": "code",
   "execution_count": 72,
   "metadata": {},
   "outputs": [
    {
     "output_type": "execute_result",
     "data": {
      "text/plain": [
       "array([[3., 3., 3., 3., 3.],\n",
       "       [3., 3., 3., 3., 3.],\n",
       "       [3., 3., 3., 3., 3.],\n",
       "       [3., 3., 3., 3., 3.],\n",
       "       [3., 3., 3., 3., 3.]])"
      ]
     },
     "metadata": {},
     "execution_count": 72
    }
   ],
   "source": [
    "# create a diffent value matrix\n",
    "np.zeros((5,5), dtype='int32')\n",
    "d = np.ones([5,5])\n",
    "np.full((5,5,5), 10)\n",
    "np.full_like(d, 3)"
   ]
  },
  {
   "cell_type": "code",
   "execution_count": 220,
   "metadata": {},
   "outputs": [
    {
     "output_type": "execute_result",
     "data": {
      "text/plain": [
       "array([[0.85118791, 0.05163308, 0.61116355, 0.89541041, 0.3753424 ],\n",
       "       [0.30270353, 0.73630706, 0.68446241, 0.41525022, 0.97329876],\n",
       "       [0.55101335, 0.06006789, 0.80770043, 0.79572449, 0.3568872 ],\n",
       "       [0.41216352, 0.09834448, 0.76168182, 0.90478651, 0.30846093],\n",
       "       [0.78767697, 0.22597653, 0.50145159, 0.80293589, 0.47837318]])"
      ]
     },
     "metadata": {},
     "execution_count": 220
    }
   ],
   "source": [
    "# Init a Random dec Numbers \n",
    "np.random.rand(2,3)\n",
    "np.random.random_sample(d.shape)"
   ]
  },
  {
   "cell_type": "code",
   "execution_count": 4,
   "metadata": {},
   "outputs": [
    {
     "output_type": "execute_result",
     "data": {
      "text/plain": [
       "array([[ 0,  6,  3,  3,  1,  7,  1,  4,  5],\n",
       "       [ 1, -1,  5,  7,  0,  1,  8, -1,  1],\n",
       "       [ 2,  4,  4,  5,  5,  4,  8,  0,  3],\n",
       "       [ 8,  2,  0,  0,  7,  3,  1,  4,  5],\n",
       "       [-1, -1,  1, -1,  3,  4,  8,  2,  3],\n",
       "       [ 0,  4,  4,  7,  3,  8,  1,  5,  8],\n",
       "       [-1,  4,  5,  6,  7,  1,  4, -1,  2],\n",
       "       [ 3,  1,  3,  3, -1, -1,  0,  0,  6],\n",
       "       [ 0,  6, -1, -1,  3,  8,  8,  1, -1]])"
      ]
     },
     "metadata": {},
     "execution_count": 4
    }
   ],
   "source": [
    "# Random Integer Numbers\n",
    "np.random.randint(9, size=(10,10))\n",
    "np.random.randint(-1,9, size=(9,9))"
   ]
  },
  {
   "cell_type": "code",
   "execution_count": 10,
   "metadata": {},
   "outputs": [
    {
     "output_type": "execute_result",
     "data": {
      "text/plain": [
       "array([[1., 0., 0., 0., 0., 0., 0., 0., 0.],\n",
       "       [0., 1., 0., 0., 0., 0., 0., 0., 0.],\n",
       "       [0., 0., 1., 0., 0., 0., 0., 0., 0.],\n",
       "       [0., 0., 0., 1., 0., 0., 0., 0., 0.],\n",
       "       [0., 0., 0., 0., 1., 0., 0., 0., 0.],\n",
       "       [0., 0., 0., 0., 0., 1., 0., 0., 0.],\n",
       "       [0., 0., 0., 0., 0., 0., 1., 0., 0.],\n",
       "       [0., 0., 0., 0., 0., 0., 0., 1., 0.],\n",
       "       [0., 0., 0., 0., 0., 0., 0., 0., 1.]])"
      ]
     },
     "metadata": {},
     "execution_count": 10
    }
   ],
   "source": [
    "# Create a Identit matrix == square\n",
    "np.identity(9)"
   ]
  },
  {
   "cell_type": "code",
   "execution_count": 19,
   "metadata": {},
   "outputs": [
    {
     "output_type": "execute_result",
     "data": {
      "text/plain": [
       "array([[2, 4, 6, 8],\n",
       "       [2, 4, 6, 8],\n",
       "       [2, 4, 6, 8],\n",
       "       [2, 4, 6, 8]])"
      ]
     },
     "metadata": {},
     "execution_count": 19
    }
   ],
   "source": [
    "# repeat the array \n",
    "e = np.array([[2,4,6,8]])\n",
    "r1 = np.repeat(e, 4, axis=0)\n",
    "r1"
   ]
  },
  {
   "source": [
    "### Coding Challenge"
   ],
   "cell_type": "markdown",
   "metadata": {}
  },
  {
   "cell_type": "code",
   "execution_count": 47,
   "metadata": {},
   "outputs": [
    {
     "output_type": "stream",
     "name": "stdout",
     "text": [
      "[[1 1 1 1 1]\n [1 0 0 0 1]\n [1 0 9 0 1]\n [1 0 0 0 1]\n [1 1 1 1 1]]\n"
     ]
    }
   ],
   "source": [
    "# challenge array\n",
    "f = np.ones([5,5], dtype='int16')\n",
    "f[1:-1, 1:-1] = [0,0,0]\n",
    "f[2, 2:-2] = 9\n",
    "print(f)"
   ]
  },
  {
   "source": [
    "#### Be Careful of Copying Array!!"
   ],
   "cell_type": "markdown",
   "metadata": {}
  },
  {
   "cell_type": "code",
   "execution_count": 59,
   "metadata": {},
   "outputs": [
    {
     "output_type": "stream",
     "name": "stdout",
     "text": [
      "[1 2 3 4 5]\n"
     ]
    },
    {
     "output_type": "execute_result",
     "data": {
      "text/plain": [
       "array([100,   2,   3,   4,   5])"
      ]
     },
     "metadata": {},
     "execution_count": 59
    }
   ],
   "source": [
    "g = np.array([1,2,3,4,5])\n",
    "# inherits to every changes on g1\n",
    "g1 = g \n",
    "# best options is .copy func\n",
    "g1 = g.copy()\n",
    "print(g)\n",
    "g1[0] = 100\n",
    "g1"
   ]
  },
  {
   "source": [
    "### Math of Numpy"
   ],
   "cell_type": "markdown",
   "metadata": {}
  },
  {
   "cell_type": "code",
   "execution_count": 70,
   "metadata": {},
   "outputs": [
    {
     "output_type": "execute_result",
     "data": {
      "text/plain": [
       "array([ 0.84147098,  0.90929743,  0.14112001, -0.7568025 , -0.95892427])"
      ]
     },
     "metadata": {},
     "execution_count": 70
    }
   ],
   "source": [
    "h = np.array([1,2,3,4,5])\n",
    "h + 2 # adds all to the elements \n",
    "h - 2 # minus all to the elements\n",
    "h / 2 # divide all to the elements\n",
    "h * 2 # multiply all to the elements\n",
    "h % 2 # modulo all to the elements\n",
    "h ** 2 # raise all to the elements\n",
    "# Take the sin\n",
    "np.sin(h)"
   ]
  },
  {
   "source": [
    "### Linear Algebra "
   ],
   "cell_type": "markdown",
   "metadata": {}
  },
  {
   "cell_type": "code",
   "execution_count": 77,
   "metadata": {},
   "outputs": [
    {
     "output_type": "stream",
     "name": "stdout",
     "text": [
      "[[1 1 1]\n [1 1 1]]\n[[2 2]\n [2 2]\n [2 2]]\n"
     ]
    },
    {
     "output_type": "execute_result",
     "data": {
      "text/plain": [
       "array([[6, 6],\n",
       "       [6, 6]])"
      ]
     },
     "metadata": {},
     "execution_count": 77
    }
   ],
   "source": [
    "i = np.full([2,3], 1)\n",
    "print(i)\n",
    "j = np.full([3,2], 2)\n",
    "print(j)\n",
    "np.matmul(i, j)"
   ]
  },
  {
   "cell_type": "code",
   "execution_count": 84,
   "metadata": {},
   "outputs": [
    {
     "output_type": "execute_result",
     "data": {
      "text/plain": [
       "1.0"
      ]
     },
     "metadata": {},
     "execution_count": 84
    }
   ],
   "source": [
    "#  Find determinant \n",
    "i = np.identity(9)\n",
    "np.linalg.det(i)"
   ]
  },
  {
   "source": [
    "### Statistics\n"
   ],
   "cell_type": "markdown",
   "metadata": {}
  },
  {
   "cell_type": "code",
   "execution_count": 94,
   "metadata": {},
   "outputs": [
    {
     "output_type": "execute_result",
     "data": {
      "text/plain": [
       "array([3, 2, 6])"
      ]
     },
     "metadata": {},
     "execution_count": 94
    }
   ],
   "source": [
    "stat = np.array([[4,2,9],[3,5,6]])\n",
    "np.min(stat, axis=0)"
   ]
  },
  {
   "source": [
    "### Reorganizing Array"
   ],
   "cell_type": "markdown",
   "metadata": {}
  },
  {
   "cell_type": "code",
   "execution_count": 135,
   "metadata": {},
   "outputs": [
    {
     "output_type": "execute_result",
     "data": {
      "text/plain": [
       "array([[ 4, 13,  5,  5],\n",
       "       [18,  7, 18,  3],\n",
       "       [ 4, 17,  4, 10],\n",
       "       [12, 13,  6, 17]])"
      ]
     },
     "metadata": {},
     "execution_count": 135
    }
   ],
   "source": [
    "# Reshaping array\n",
    "k = np.random.randint(19, size=(2,2,2,2))\n",
    "k.reshape(4,4)\n"
   ]
  }
 ]
}