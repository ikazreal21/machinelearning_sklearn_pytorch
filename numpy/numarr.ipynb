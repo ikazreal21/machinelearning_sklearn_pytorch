{
 "metadata": {
  "language_info": {
   "codemirror_mode": {
    "name": "ipython",
    "version": 3
   },
   "file_extension": ".py",
   "mimetype": "text/x-python",
   "name": "python",
   "nbconvert_exporter": "python",
   "pygments_lexer": "ipython3",
   "version": "3.9.1-final"
  },
  "orig_nbformat": 2,
  "kernelspec": {
   "name": "python3",
   "display_name": "Python 3",
   "language": "python"
  }
 },
 "nbformat": 4,
 "nbformat_minor": 2,
 "cells": [
  {
   "cell_type": "code",
   "execution_count": 1,
   "metadata": {},
   "outputs": [],
   "source": [
    "import numpy as np"
   ]
  },
  {
   "cell_type": "code",
   "execution_count": 2,
   "metadata": {},
   "outputs": [
    {
     "output_type": "stream",
     "name": "stdout",
     "text": [
      "(2, 3)\n"
     ]
    }
   ],
   "source": [
    "# create a array and know it shape\n",
    "print(np.array([[1,2,3],[4,5,6]]).shape)"
   ]
  },
  {
   "cell_type": "code",
   "execution_count": 3,
   "metadata": {},
   "outputs": [
    {
     "output_type": "execute_result",
     "data": {
      "text/plain": [
       "2"
      ]
     },
     "metadata": {},
     "execution_count": 3
    }
   ],
   "source": [
    "# get the dimension of an numpy array\n",
    "a = np.array([[1,2,3,4],[5,6,7,8]], dtype=\"int32\")\n",
    "a.ndim"
   ]
  },
  {
   "cell_type": "code",
   "execution_count": 4,
   "metadata": {},
   "outputs": [
    {
     "output_type": "execute_result",
     "data": {
      "text/plain": [
       "32"
      ]
     },
     "metadata": {},
     "execution_count": 4
    }
   ],
   "source": [
    "# Get the type and size of the array\n",
    "a.dtype\n",
    "a.itemsize # .itemsize is the bytes and the .size is the size of the array\n",
    "a.nbytes # Float is bigger than int"
   ]
  },
  {
   "cell_type": "code",
   "execution_count": 5,
   "metadata": {},
   "outputs": [
    {
     "output_type": "stream",
     "name": "stdout",
     "text": [
      "[[ 1  2  3  4  5  6  7  8  9 10]\n [11 12 13 14 15 16 17 18 19 20]]\n"
     ]
    }
   ],
   "source": [
    "# change a value in the numpy array\n",
    "b = np.array([[1,2,3,4,5,6,7,8,9,10],[11,12,13,14,15,16,17,18,19,20]])\n",
    "print(b)"
   ]
  },
  {
   "cell_type": "code",
   "execution_count": 6,
   "metadata": {},
   "outputs": [],
   "source": [
    "# Get a specific elements [row, col], [startindex:endIndex:step]\n",
    "b[:, 1]\n",
    "b[0, :-1]\n",
    "b[0, 2:-1:3]\n",
    "b[1, 1:-1:3] = 20, 21, 22"
   ]
  },
  {
   "cell_type": "code",
   "execution_count": 7,
   "metadata": {},
   "outputs": [
    {
     "output_type": "execute_result",
     "data": {
      "text/plain": [
       "array([[[1, 2],\n",
       "        [3, 4]],\n",
       "\n",
       "       [[5, 6],\n",
       "        [7, 8]]])"
      ]
     },
     "metadata": {},
     "execution_count": 7
    }
   ],
   "source": [
    "# 3d arr example \n",
    "c = np.array([[[1,2],[3,4]],[[5,6],[7,8]]])\n",
    "c.ndim\n",
    "c"
   ]
  },
  {
   "cell_type": "code",
   "execution_count": 8,
   "metadata": {},
   "outputs": [
    {
     "output_type": "execute_result",
     "data": {
      "text/plain": [
       "array([[[1, 2],\n",
       "        [3, 4]],\n",
       "\n",
       "       [[5, 6],\n",
       "        [7, 8]]])"
      ]
     },
     "metadata": {},
     "execution_count": 8
    }
   ],
   "source": [
    "#Display a element(Work outside In) and replace elements\n",
    "c[:,:,1] = [[1,2],[3,4]]\n",
    "c[:,:,1] = [[2,4],[6,8]]\n",
    "c"
   ]
  },
  {
   "cell_type": "code",
   "execution_count": 9,
   "metadata": {},
   "outputs": [
    {
     "output_type": "execute_result",
     "data": {
      "text/plain": [
       "array([[3., 3., 3., 3., 3.],\n",
       "       [3., 3., 3., 3., 3.],\n",
       "       [3., 3., 3., 3., 3.],\n",
       "       [3., 3., 3., 3., 3.],\n",
       "       [3., 3., 3., 3., 3.]])"
      ]
     },
     "metadata": {},
     "execution_count": 9
    }
   ],
   "source": [
    "# create a diffent value matrix\n",
    "np.zeros((5,5), dtype='int32')\n",
    "d = np.ones([5,5])\n",
    "np.full((5,5,5), 10)\n",
    "np.full_like(d, 3)"
   ]
  },
  {
   "cell_type": "code",
   "execution_count": 10,
   "metadata": {},
   "outputs": [
    {
     "output_type": "execute_result",
     "data": {
      "text/plain": [
       "array([[0.01074069, 0.86442835, 0.34904348, 0.21486521, 0.90157512],\n",
       "       [0.12335945, 0.84189972, 0.92243722, 0.54104684, 0.37150207],\n",
       "       [0.0311442 , 0.04805067, 0.41862851, 0.88049449, 0.46407194],\n",
       "       [0.32707762, 0.99035729, 0.14643566, 0.27655075, 0.71110858],\n",
       "       [0.62424739, 0.40879762, 0.23224336, 0.02703264, 0.06964954]])"
      ]
     },
     "metadata": {},
     "execution_count": 10
    }
   ],
   "source": [
    "# Init a Random dec Numbers \n",
    "np.random.rand(2,3)  \n",
    "np.random.random_sample(d.shape)"
   ]
  },
  {
   "cell_type": "code",
   "execution_count": 11,
   "metadata": {},
   "outputs": [
    {
     "output_type": "execute_result",
     "data": {
      "text/plain": [
       "array([[ 7,  2, -1,  4,  7,  7, -1,  8,  5],\n",
       "       [ 3,  2,  6,  8,  7,  0,  2,  7, -1],\n",
       "       [ 2,  0,  3,  0,  8,  6,  8,  5,  2],\n",
       "       [ 6,  7,  7,  3,  5,  4,  0,  8,  1],\n",
       "       [ 0,  1,  4,  3,  4,  0,  6,  4,  5],\n",
       "       [ 0,  2,  1,  6,  3,  2,  1,  1,  7],\n",
       "       [ 5,  8,  5,  4,  6,  1,  1, -1,  6],\n",
       "       [ 8,  6,  3,  8,  3,  6,  1,  1,  1],\n",
       "       [ 4,  0,  1,  8, -1,  4,  3,  1,  2]])"
      ]
     },
     "metadata": {},
     "execution_count": 11
    }
   ],
   "source": [
    "# Random Integer Numbers\n",
    "np.random.randint(9, size=(10,10))\n",
    "np.random.randint(-1,9, size=(9,9))"
   ]
  },
  {
   "cell_type": "code",
   "execution_count": 12,
   "metadata": {},
   "outputs": [
    {
     "output_type": "execute_result",
     "data": {
      "text/plain": [
       "array([[1., 0., 0., 0., 0., 0., 0., 0., 0.],\n",
       "       [0., 1., 0., 0., 0., 0., 0., 0., 0.],\n",
       "       [0., 0., 1., 0., 0., 0., 0., 0., 0.],\n",
       "       [0., 0., 0., 1., 0., 0., 0., 0., 0.],\n",
       "       [0., 0., 0., 0., 1., 0., 0., 0., 0.],\n",
       "       [0., 0., 0., 0., 0., 1., 0., 0., 0.],\n",
       "       [0., 0., 0., 0., 0., 0., 1., 0., 0.],\n",
       "       [0., 0., 0., 0., 0., 0., 0., 1., 0.],\n",
       "       [0., 0., 0., 0., 0., 0., 0., 0., 1.]])"
      ]
     },
     "metadata": {},
     "execution_count": 12
    }
   ],
   "source": [
    "# Create a Identit matrix == square\n",
    "np.identity(9)"
   ]
  },
  {
   "cell_type": "code",
   "execution_count": 13,
   "metadata": {},
   "outputs": [
    {
     "output_type": "execute_result",
     "data": {
      "text/plain": [
       "array([[2, 4, 6, 8],\n",
       "       [2, 4, 6, 8],\n",
       "       [2, 4, 6, 8],\n",
       "       [2, 4, 6, 8]])"
      ]
     },
     "metadata": {},
     "execution_count": 13
    }
   ],
   "source": [
    "# repeat the array \n",
    "e = np.array([[2,4,6,8]])\n",
    "r1 = np.repeat(e, 4, axis=0)\n",
    "r1"
   ]
  },
  {
   "source": [
    "### Coding Challenge"
   ],
   "cell_type": "markdown",
   "metadata": {}
  },
  {
   "cell_type": "code",
   "execution_count": 14,
   "metadata": {},
   "outputs": [
    {
     "output_type": "stream",
     "name": "stdout",
     "text": [
      "[[1 1 1 1 1]\n [1 0 0 0 1]\n [1 0 9 0 1]\n [1 0 0 0 1]\n [1 1 1 1 1]]\n"
     ]
    }
   ],
   "source": [
    "# challenge array\n",
    "f = np.ones([5,5], dtype='int16')\n",
    "f[1:-1, 1:-1] = [0,0,0]\n",
    "f[2, 2:-2] = 9\n",
    "print(f)"
   ]
  },
  {
   "source": [
    "#### Be Careful of Copying Array!!"
   ],
   "cell_type": "markdown",
   "metadata": {}
  },
  {
   "cell_type": "code",
   "execution_count": 15,
   "metadata": {},
   "outputs": [
    {
     "output_type": "stream",
     "name": "stdout",
     "text": [
      "[1 2 3 4 5]\n"
     ]
    },
    {
     "output_type": "execute_result",
     "data": {
      "text/plain": [
       "array([100,   2,   3,   4,   5])"
      ]
     },
     "metadata": {},
     "execution_count": 15
    }
   ],
   "source": [
    "g = np.array([1,2,3,4,5])\n",
    "# inherits to every changes on g1\n",
    "g1 = g \n",
    "# best options is .copy func\n",
    "g1 = g.copy()\n",
    "print(g)\n",
    "g1[0] = 100\n",
    "g1"
   ]
  },
  {
   "source": [
    "### Math of Numpy"
   ],
   "cell_type": "markdown",
   "metadata": {}
  },
  {
   "cell_type": "code",
   "execution_count": 16,
   "metadata": {},
   "outputs": [
    {
     "output_type": "execute_result",
     "data": {
      "text/plain": [
       "array([ 0.84147098,  0.90929743,  0.14112001, -0.7568025 , -0.95892427])"
      ]
     },
     "metadata": {},
     "execution_count": 16
    }
   ],
   "source": [
    "h = np.array([1,2,3,4,5])\n",
    "h + 2 # adds all to the elements \n",
    "h - 2 # minus all to the elements\n",
    "h / 2 # divide all to the elements\n",
    "h * 2 # multiply all to the elements\n",
    "h % 2 # modulo all to the elements\n",
    "h ** 2 # raise all to the elements\n",
    "# Take the sin\n",
    "np.sin(h)"
   ]
  },
  {
   "source": [
    "### Linear Algebra "
   ],
   "cell_type": "markdown",
   "metadata": {}
  },
  {
   "cell_type": "code",
   "execution_count": 17,
   "metadata": {},
   "outputs": [
    {
     "output_type": "stream",
     "name": "stdout",
     "text": [
      "[[1 1 1]\n [1 1 1]]\n[[2 2]\n [2 2]\n [2 2]]\n"
     ]
    },
    {
     "output_type": "execute_result",
     "data": {
      "text/plain": [
       "array([[6, 6],\n",
       "       [6, 6]])"
      ]
     },
     "metadata": {},
     "execution_count": 17
    }
   ],
   "source": [
    "i = np.full([2,3], 1)\n",
    "print(i)\n",
    "j = np.full([3,2], 2)\n",
    "print(j)\n",
    "np.matmul(i, j)"
   ]
  },
  {
   "cell_type": "code",
   "execution_count": 18,
   "metadata": {},
   "outputs": [
    {
     "output_type": "execute_result",
     "data": {
      "text/plain": [
       "1.0"
      ]
     },
     "metadata": {},
     "execution_count": 18
    }
   ],
   "source": [
    "#  Find determinant \n",
    "i = np.identity(9)\n",
    "np.linalg.det(i)"
   ]
  },
  {
   "source": [
    "### Statistics\n"
   ],
   "cell_type": "markdown",
   "metadata": {}
  },
  {
   "cell_type": "code",
   "execution_count": 19,
   "metadata": {},
   "outputs": [
    {
     "output_type": "execute_result",
     "data": {
      "text/plain": [
       "array([3, 2, 6])"
      ]
     },
     "metadata": {},
     "execution_count": 19
    }
   ],
   "source": [
    "stat = np.array([[4,2,9],[3,5,6]])\n",
    "np.min(stat, axis=0)"
   ]
  },
  {
   "source": [
    "### Reorganizing Array"
   ],
   "cell_type": "markdown",
   "metadata": {}
  },
  {
   "cell_type": "code",
   "execution_count": 20,
   "metadata": {},
   "outputs": [
    {
     "output_type": "execute_result",
     "data": {
      "text/plain": [
       "array([[ 1,  2,  3,  4,  5,  6,  7,  8,  9, 10],\n",
       "       [ 1,  2,  3,  4,  5,  6,  7,  8,  9, 10]])"
      ]
     },
     "metadata": {},
     "execution_count": 20
    }
   ],
   "source": [
    "# Vertically stacking vertors\n",
    "l1 = np.array([1,2,3,4,5])\n",
    "l2 = np.array([6,7,8,9,10])\n",
    "np.vstack([l2,l1])\n",
    "\n",
    "# horizontal stack \n",
    "l1 = np.array([[1,2,3,4,5],[1,2,3,4,5]])\n",
    "l2 = np.array([[6,7,8,9,10],[6,7,8,9,10]])\n",
    "np.hstack([l1,l2]) "
   ]
  },
  {
   "cell_type": "code",
   "execution_count": 21,
   "metadata": {},
   "outputs": [
    {
     "output_type": "execute_result",
     "data": {
      "text/plain": [
       "array([[15,  4, 13,  7],\n",
       "       [ 2, 11, 15,  0],\n",
       "       [ 6, 15,  4,  0],\n",
       "       [10,  8, 12, 16]])"
      ]
     },
     "metadata": {},
     "execution_count": 21
    }
   ],
   "source": [
    "# Reshaping array\n",
    "k = np.random.randint(19, size=(2,2,2,2))\n",
    "k.reshape(4,4)\n"
   ]
  },
  {
   "source": [
    "### Misc"
   ],
   "cell_type": "markdown",
   "metadata": {}
  },
  {
   "cell_type": "code",
   "execution_count": 41,
   "metadata": {},
   "outputs": [],
   "source": [
    "m = np.genfromtxt('arr.txt', delimiter=',', dtype='int32')\n",
    "m1 = m.reshape([6,5])"
   ]
  },
  {
   "source": [
    "### Bolean Masking and Advance Indexing"
   ],
   "cell_type": "markdown",
   "metadata": {}
  },
  {
   "cell_type": "code",
   "execution_count": 30,
   "metadata": {},
   "outputs": [
    {
     "output_type": "execute_result",
     "data": {
      "text/plain": [
       "array([False, False, False, False, False, False, False, False, False,\n",
       "       False, False, False, False, False, False, False, False,  True,\n",
       "       False,  True, False,  True, False,  True, False,  True, False,\n",
       "        True, False,  True])"
      ]
     },
     "metadata": {},
     "execution_count": 30
    }
   ],
   "source": [
    "# advance indexing, also you can index using a list\n",
    "m % 2 != 1 \n",
    "((m >= 17) & (m % 2 == 0))"
   ]
  },
  {
   "cell_type": "code",
   "execution_count": 109,
   "metadata": {},
   "outputs": [
    {
     "output_type": "execute_result",
     "data": {
      "text/plain": [
       "array([[ 4,  5],\n",
       "       [24, 25],\n",
       "       [29, 30]], dtype=int32)"
      ]
     },
     "metadata": {},
     "execution_count": 109
    }
   ],
   "source": [
    "m1[2:-2, 0:-3]\n",
    "m1[[0,1,2,3],[1,2,3,4]]\n",
    "m1[[0,4,5],-2:]"
   ]
  }
 ]
}