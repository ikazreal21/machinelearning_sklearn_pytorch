{
  "nbformat": 4,
  "nbformat_minor": 0,
  "metadata": {
    "colab": {
      "name": "pytorch2.ipynb",
      "provenance": [],
      "collapsed_sections": [],
      "authorship_tag": "ABX9TyPg6hTSJursFHBuChGkdScK",
      "include_colab_link": true
    },
    "kernelspec": {
      "name": "python3",
      "display_name": "Python 3"
    },
    "accelerator": "GPU"
  },
  "cells": [
    {
      "cell_type": "markdown",
      "metadata": {
        "id": "view-in-github",
        "colab_type": "text"
      },
      "source": [
        "<a href=\"https://colab.research.google.com/github/ikazreal21/machinelearning_sklearn_pytorch/blob/master/pytorch2.ipynb\" target=\"_parent\"><img src=\"https://colab.research.google.com/assets/colab-badge.svg\" alt=\"Open In Colab\"/></a>"
      ]
    },
    {
      "cell_type": "code",
      "metadata": {
        "id": "OdnH6W8OLxjz"
      },
      "source": [
        "!wget https://download.microsoft.com/download/3/E/1/3E1C3F21-ECDB-4869-8368-6DEBA77B919F/kagglecatsanddogs_3367a.zip\n",
        "!unzip kagglecatsanddogs_3367a.zip\n",
        "!pip install numpy opencv-python tqdm\n",
        "!pip install torch==1.8.0+cu111 torchvision==0.9.0+cu111 torchaudio==0.8.0 -f https://download.pytorch.org/whl/torch_stable.html"
      ],
      "execution_count": null,
      "outputs": []
    },
    {
      "cell_type": "markdown",
      "metadata": {
        "id": "G_t5nSXeMu36"
      },
      "source": [
        "###CODE\n"
      ]
    },
    {
      "cell_type": "code",
      "metadata": {
        "id": "1KPGE_g5MEtq"
      },
      "source": [
        "import os \n",
        "import numpy as np\n",
        "import cv2 \n",
        "from tqdm import tqdm \n",
        "# from google.colab.patches import cv2_imshow \n",
        "import matplotlib.pyplot as plt\n",
        "import torch\n",
        "import torch.nn as nn\n",
        "import torch.nn.functional as F\n",
        "import torch.optim as optim\n",
        "\n",
        "\n",
        "\n",
        "REBUILD_DATA = False\n",
        "\n",
        "class DogsvCats():\n",
        "    IMG_SIZE = 50\n",
        "    CATS = \"/content/PetImages/Cat\"\n",
        "    DOGS = \"/content/PetImages/Dog\"\n",
        "    LABELS = {CATS: 0, DOGS: 1}\n",
        "    training_data = []\n",
        "    catcnt = 0\n",
        "    dogcnt = 0\n",
        "\n",
        "\n",
        "    def making_training_data(self):\n",
        "        for label in self.LABELS:\n",
        "            print(label)\n",
        "            for d in tqdm(os.listdir(label)):\n",
        "                try:\n",
        "                    path = os.path.join(label, d)\n",
        "                    img = cv2.imread(path, cv2.IMREAD_GRAYSCALE)\n",
        "                    img = cv2.resize(img, (self.IMG_SIZE, self.IMG_SIZE))\n",
        "                    self.training_data.append([np.array(img), np.eye(2)[self.LABELS[label]]])   \n",
        "\n",
        "                    if label == self.CATS:\n",
        "                        self.catcnt += 1\n",
        "                    elif label == self.DOGS:\n",
        "                        self.dogcnt += 1\n",
        "                except  Exception as e:\n",
        "                    pass    \n",
        "\n",
        "        np.random.shuffle(self.training_data)\n",
        "        np.save(\"training_dats.npy\", self.training_data)\n",
        "\n",
        "        # print(\"Cats: \", self.catcnt)\n",
        "        # print(\"Dogs: \", self.dogcnt)\n",
        "\n",
        "# plt.imshow(training_data[4][0], cmap=\"gray\")\n",
        "# plt.show()\n",
        "# training_data[4][1]\n",
        "\n",
        "\n",
        "class Cnn(nn.Module):\n",
        "    def __init__(self):\n",
        "        super().__init__()\n",
        "        self.conn1 = nn.Conv2d(1, 32, 5)\n",
        "        self.conn2 = nn.Conv2d(32, 64, 5)\n",
        "        self.conn3 = nn.Conv2d(64, 128, 5)\n",
        "        self.conn4 = nn.Conv2d(128, 256, 5)\n",
        "        \n",
        "        x = torch.randn(50,50).view(-1,1,50,50)\n",
        "        self._to_linear = None\n",
        "        self.conv(x)\n",
        "\n",
        "        self.fconn1 = nn.Linear(self._to_linear, 512)\n",
        "        self.fconn2 = nn.Linear(512, 2)\n",
        "\n",
        "    def conv(self, x):\n",
        "        x = F.max_pool2d(F.relu(self.conn1(x)), (2,2))\n",
        "        x = F.max_pool2d(F.relu(self.conn2(x)), (2,2))\n",
        "        x = F.max_pool2d(F.relu(self.conn3(x)), (2,2))\n",
        "        # x = F.max_pool2d(F.relu(self.conn4(x)), (2,2))\n",
        "\n",
        "\n",
        "        # print(x[0].shape)\n",
        "        if self._to_linear is None:\n",
        "            self._to_linear = x[0].shape[0]*x[0].shape[1]*x[0].shape[2]\n",
        "        return x\n",
        "    \n",
        "    def forward(self, x):\n",
        "        x = self.conv(x)\n",
        "        x = x.view(-1, self._to_linear)\n",
        "        x = F.relu(self.fconn1(x))\n",
        "        x = self.fconn2(x)\n",
        "        return F.softmax(x, dim=1)\n",
        "\n",
        "net = Cnn()\n",
        "\n",
        "\n",
        "if REBUILD_DATA:\n",
        "    dogsvcats = DogsvCats()\n",
        "    dogsvcats.making_training_data()\n",
        "    \n",
        "training_data = np.load(\"training_dats.npy\", allow_pickle=True)\n",
        "print(len(training_data))\n",
        "\n",
        "optimizer = optim.Adam(net.parameters(), lr=0.001)\n",
        "loss_func = nn.MSELoss()\n",
        "\n",
        "X = torch.Tensor([i[0] for i in training_data]).view(-1, 50, 50)\n",
        "X = X/255.0\n",
        "y = torch.Tensor([i[1] for i in training_data])\n",
        "\n",
        "VAL_pct = 0.1\n",
        "\n",
        "valsize = int(len(X)*VAL_pct)\n",
        "print(valsize)\n",
        "\n",
        "train_X = X[:-valsize]\n",
        "train_y = y[:-valsize]\n",
        "\n",
        "test_X = X[-valsize:]\n",
        "test_y = y[-valsize:]\n",
        "\n",
        "if torch.cuda.is_available():\n",
        "    device = torch.device(\"cuda:0\")\n",
        "    print(\"On GPU\")\n",
        "else: \n",
        "    device = torch.device(\"cpu\")\n",
        "    print(\"On CPU\")\n",
        "\n",
        "net = Cnn().to(device)"
      ],
      "execution_count": null,
      "outputs": []
    },
    {
      "cell_type": "code",
      "metadata": {
        "id": "MRRIMKMxMsvT"
      },
      "source": [
        "def forward_pass(X, y, train=False):\n",
        "    if train:\n",
        "        net.zero_grad()\n",
        "    outputs = net(X.view(-1,1,50,50).to(device))\n",
        "    matches = [torch.argmax(i) == torch.argmax(j) for i, j in zip(outputs, y)]\n",
        "    acc = matches.count(True)/len(matches)\n",
        "    loss = loss_func(outputs, y.to(device))\n",
        "\n",
        "    if train:\n",
        "        loss.backward()\n",
        "        optimizer.step()\n",
        "    return acc, loss"
      ],
      "execution_count": null,
      "outputs": []
    },
    {
      "cell_type": "code",
      "metadata": {
        "colab": {
          "base_uri": "https://localhost:8080/"
        },
        "id": "xytzy91ERE5D",
        "outputId": "bcd4f4fa-5d35-4dd4-b691-a25b036fa81d"
      },
      "source": [
        "def test(size=32):\n",
        "    random_s = np.random.randint(len(test_X)-size)\n",
        "    X, y = test_X[random_s:random_s+size], test_y[random_s:random_s+size]\n",
        "    with torch.no_grad():\n",
        "        val_acc, val_loss = forward_pass(X, y)\n",
        "    return val_acc, val_loss\n",
        "\n",
        "val_acc, val_loss = test(size=1000)\n",
        "print(val_acc, val_loss)"
      ],
      "execution_count": null,
      "outputs": [
        {
          "output_type": "stream",
          "text": [
            "0.5 tensor(0.2501, device='cuda:0')\n"
          ],
          "name": "stdout"
        }
      ]
    },
    {
      "cell_type": "code",
      "metadata": {
        "id": "71xcP7UCVQZE"
      },
      "source": [
        "import time \n",
        "\n",
        "Model_name = f\"model-{int(time.time())}\"\n",
        "\n",
        "net = Cnn().to(device)\n",
        "\n",
        "optimizer = optim.Adam(net.parameters(), lr=0.001)\n",
        "loss_func = nn.MSELoss()\n",
        "\n",
        "print(f\"\\n{Model_name}\")\n",
        "\n",
        "def train():\n",
        "    BATCH_SIZE = 100\n",
        "    epochs = 30\n",
        "\n",
        "    with open(\"model.log\", \"a\") as f:\n",
        "        for epchs in range(epochs):\n",
        "            for d in tqdm(range(0, len(train_X), BATCH_SIZE)):\n",
        "                # print(d, d+BATCH_SIZE)\n",
        "                batch_X = train_X[d:d+BATCH_SIZE].view(-1, 1, 50, 50).to(device) \n",
        "                batch_y = train_y[d:d+BATCH_SIZE].to(device)\n",
        "\n",
        "                acc, loss = forward_pass(batch_X, batch_y, train=True)\n",
        "                if d % 30 == 0:\n",
        "                    val_acc, val_loss = test(size=100)\n",
        "                    f.write(f\"{Model_name}, {round(time.time(),3)}, {round(float(acc),2)}, {round(float(loss),4)}, {round(float(val_acc),2)},{round(float(val_loss),4)}\\n\")\n",
        "train()"
      ],
      "execution_count": null,
      "outputs": []
    }
  ]
}