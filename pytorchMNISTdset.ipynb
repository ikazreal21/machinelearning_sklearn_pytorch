{
  "nbformat": 4,
  "nbformat_minor": 0,
  "metadata": {
    "colab": {
      "name": "pytorchMNISTdset.ipynb",
      "provenance": [],
      "collapsed_sections": [],
      "mount_file_id": "1lWHmipCpg84KWhHmAyTwbia6-Xwd8o12",
      "authorship_tag": "ABX9TyOkLBd9uJBV7eMEFCegFgiP",
      "include_colab_link": true
    },
    "kernelspec": {
      "name": "python3",
      "display_name": "Python 3"
    }
  },
  "cells": [
    {
      "cell_type": "markdown",
      "metadata": {
        "id": "view-in-github",
        "colab_type": "text"
      },
      "source": [
        "<a href=\"https://colab.research.google.com/github/ikazreal21/machinelearning_sklearn_pytorch/blob/master/pytorchMNISTdset.ipynb\" target=\"_parent\"><img src=\"https://colab.research.google.com/assets/colab-badge.svg\" alt=\"Open In Colab\"/></a>"
      ]
    },
    {
      "cell_type": "code",
      "metadata": {
        "id": "vk704HotKQPT"
      },
      "source": [
        "!pip install torch==1.8.0+cpu torchvision==0.9.0+cpu torchaudio==0.8.0 -f https://download.pytorch.org/whl/torch_stable.html"
      ],
      "execution_count": null,
      "outputs": []
    },
    {
      "cell_type": "code",
      "metadata": {
        "id": "4IjZkjiPLG0Z"
      },
      "source": [
        "# import torch\n",
        "\n",
        "# x = torch.Tensor([5,3])\n",
        "# y = torch.Tensor([3,3])\n",
        "\n",
        "# # print(x*y)\n",
        "\n",
        "\n",
        "# y = torch.rand([2,2])\n",
        "# y.view([1,4])"
      ],
      "execution_count": null,
      "outputs": []
    },
    {
      "cell_type": "code",
      "metadata": {
        "id": "Od99tJBzYuo-"
      },
      "source": [
        "import matplotlib.pyplot as plt\n",
        "import torch\n",
        "import torchvision\n",
        "from torchvision import datasets, transforms\n",
        "import torch.nn as nn\n",
        "import torch.nn.functional as F"
      ],
      "execution_count": null,
      "outputs": []
    },
    {
      "cell_type": "code",
      "metadata": {
        "id": "YOdXUAaqatc-"
      },
      "source": [
        "train = datasets.MNIST(\"\", train=True, download=True, transform=transforms.Compose([transforms.ToTensor()]))\n",
        "test = datasets.MNIST(\"\", train=False, download=True, transform=transforms.Compose([transforms.ToTensor()]))"
      ],
      "execution_count": null,
      "outputs": []
    },
    {
      "cell_type": "code",
      "metadata": {
        "id": "HVXJUiqfe8gZ"
      },
      "source": [
        "trainset = torch.utils.data.DataLoader(train, batch_size=10, shuffle=True)\n",
        "testset = torch.utils.data.DataLoader(test, batch_size=10, shuffle=True)"
      ],
      "execution_count": null,
      "outputs": []
    },
    {
      "cell_type": "code",
      "metadata": {
        "id": "rxGEi05ouCFa"
      },
      "source": [
        "class Neural(nn.Module):\n",
        "  \n",
        "  def __init__(self):\n",
        "    super().__init__()\n",
        "    self.fullcon1 = nn.Linear(28*28,  64)\n",
        "    self.fullcon2 = nn.Linear(64,  64)\n",
        "    self.fullcon3 = nn.Linear(64,  64)\n",
        "    self.fullcon4 = nn.Linear(64,  64)\n",
        "    self.fullcon5 = nn.Linear(64,  10)\n",
        "\n",
        "  # Can throw logic\n",
        "  def forward(self, x):\n",
        "    x = F.relu(self.fullcon1(x))\n",
        "    x = F.relu(self.fullcon2(x))\n",
        "    x = F.relu(self.fullcon3(x))\n",
        "    x = F.relu(self.fullcon4(x))\n",
        "    x = self.fullcon5(x)\n",
        "    return F.log_softmax(x, dim=1)\n",
        "\n",
        "net =  Neural()\n",
        "# print(net)"
      ],
      "execution_count": null,
      "outputs": []
    },
    {
      "cell_type": "code",
      "metadata": {
        "colab": {
          "base_uri": "https://localhost:8080/"
        },
        "id": "CL6fC-s1z1rD",
        "outputId": "13b3111a-e5b1-47b1-b7c8-3d08276739d4"
      },
      "source": [
        "tr = torch.rand((28,28))\n",
        "tr = tr.view(28*28)\n",
        "output = net(tr)\n",
        "output"
      ],
      "execution_count": null,
      "outputs": [
        {
          "output_type": "execute_result",
          "data": {
            "text/plain": [
              "tensor([-2.3152, -2.2955, -2.2627, -2.1794, -2.3158, -2.2870, -2.3371, -2.2612,\n",
              "        -2.4417, -2.3509], grad_fn=<LogSoftmaxBackward>)"
            ]
          },
          "metadata": {
            "tags": []
          },
          "execution_count": 81
        }
      ]
    },
    {
      "cell_type": "code",
      "metadata": {
        "colab": {
          "base_uri": "https://localhost:8080/"
        },
        "id": "r65NK_8Y3A89",
        "outputId": "db839f57-ba0f-4d56-f31e-515f0cff5761"
      },
      "source": [
        "import torch.optim as optim\n",
        "\n",
        "optimizer = optim.Adam(net.parameters(), lr=0.001)\n",
        "\n",
        "epochs = 3  \n",
        "\n",
        "for epchs in range(epochs):\n",
        "  for data in trainset:\n",
        "    # data is a batch of featuresets and labels\n",
        "    X, y = data \n",
        "    net.zero_grad()\n",
        "    output = net(X.view(-1, 28*28))\n",
        "    loss = F.nll_loss(output, y)\n",
        "    loss.backward()\n",
        "    optimizer.step()\n",
        "  print(loss)"
      ],
      "execution_count": null,
      "outputs": [
        {
          "output_type": "stream",
          "text": [
            "tensor(0.1246, grad_fn=<NllLossBackward>)\n",
            "tensor(0.0004, grad_fn=<NllLossBackward>)\n",
            "tensor(0.0006, grad_fn=<NllLossBackward>)\n"
          ],
          "name": "stdout"
        }
      ]
    },
    {
      "cell_type": "code",
      "metadata": {
        "colab": {
          "base_uri": "https://localhost:8080/"
        },
        "id": "atqXMOLi7bwt",
        "outputId": "f6c8bed1-2fa8-4c90-de58-f15ef3e7db56"
      },
      "source": [
        "corr = 0\n",
        "total = 0\n",
        "\n",
        "with torch.no_grad():\n",
        "  for data in trainset:\n",
        "    # data is a batch of featuresets and labels\n",
        "    X, y = data \n",
        "    output = net(X.view(-1, 28*28))\n",
        "    for idx, i in enumerate(output):\n",
        "      if torch.argmax(i)==y[idx]:\n",
        "        corr+=1\n",
        "      total +=1\n",
        "  \n",
        "print(\"Accu: \", round(corr/total, 3))\n"
      ],
      "execution_count": null,
      "outputs": [
        {
          "output_type": "stream",
          "text": [
            "Accu:  0.99\n"
          ],
          "name": "stdout"
        }
      ]
    },
    {
      "cell_type": "code",
      "metadata": {
        "colab": {
          "base_uri": "https://localhost:8080/",
          "height": 265
        },
        "id": "TpYqY32r93c3",
        "outputId": "7936224e-1cba-408b-c256-817f10f131e9"
      },
      "source": [
        "plt.imshow(X[4].view(28, 28))\n",
        "plt.show()"
      ],
      "execution_count": null,
      "outputs": [
        {
          "output_type": "display_data",
          "data": {
            "image/png": "[encoded data removed]",
            "text/plain": [
              "<Figure size 432x288 with 1 Axes>"
            ]
          },
          "metadata": {
            "tags": [],
            "needs_background": "light"
          }
        }
      ]
    },
    {
      "cell_type": "code",
      "metadata": {
        "colab": {
          "base_uri": "https://localhost:8080/"
        },
        "id": "ThGuzrDG_vGN",
        "outputId": "ca0713f7-d251-4527-ddf3-37cce37a51cf"
      },
      "source": [
        "print(torch.argmax(net(X[4].view(-1, 28*28))))"
      ],
      "execution_count": null,
      "outputs": [
        {
          "output_type": "stream",
          "text": [
            "tensor(7)\n"
          ],
          "name": "stdout"
        }
      ]
    },
    {
      "cell_type": "code",
      "metadata": {
        "id": "e4F7-phug4mL"
      },
      "source": [
        "# for data in trainset:\n",
        "#     print(data)\n",
        "#     break\n",
        "# x, y = data[0][2], data[1][0]\n",
        "# plt.imshow(x.view([28,28]))\n",
        "# plt.show()\n",
        "# total = 0\n",
        "# counter = {0:0, 1:0, 2:0, 3:0, 4:0, 5:0, 6:0, 7:0, 8:0, 9:0}\n",
        "\n",
        "# for data in trainset:\n",
        "#   Xs, ys = data \n",
        "#   for y in ys:\n",
        "#     counter[int(y)] += 1\n",
        "#     total+=1\n",
        "\n",
        "# print(counter)\n",
        "# print(f\"Total: {total}\")\n",
        "\n",
        "# for i in counter:\n",
        "#   print(f\"{i}: {counter[i]/total*100} \")"
      ],
      "execution_count": null,
      "outputs": []
    }
  ]
}